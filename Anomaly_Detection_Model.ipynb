{
  "cells": [
    {
      "cell_type": "code",
      "source": [
        "import pandas as pd\n",
        "from math import radians, sin, cos, sqrt, atan2\n",
        "from datetime import datetime\n",
        "\n",
        "# Function to calculate distance using Haversine formula\n",
        "def haversine(lat1, lon1, lat2, lon2):\n",
        "    R = 6371  # Radius of Earth in km\n",
        "    dlat = radians(lat2 - lat1)\n",
        "    dlon = radians(lon2 - lon1)\n",
        "    a = sin(dlat / 2)**2 + cos(radians(lat1)) * cos(radians(lat2)) * sin(dlon / 2)**2\n",
        "    c = 2 * atan2(sqrt(a), sqrt(1 - a))\n",
        "    return R * c  # Distance in km\n",
        "\n",
        "# Load the CSV file\n",
        "file_path = \"ShipData.csv\"  # Replace with your file path\n",
        "df = pd.read_csv(file_path)\n",
        "\n",
        "# Convert BaseDateTime to proper datetime format\n",
        "df['BaseDateTime'] = pd.to_datetime(df['BaseDateTime'], format=\"%Y-%m-%dT%H:%M:%S\")\n",
        "\n",
        "# Sort by IMO number and BaseDateTime\n",
        "df.sort_values(by=['IMO', 'BaseDateTime'], inplace=True)\n",
        "\n",
        "# Calculate speed\n",
        "results = []\n",
        "for imo, group in df.groupby('IMO'):  # Group by IMO number\n",
        "    group = group.reset_index(drop=True)\n",
        "    for i in range(1, min(11, len(group))):  # Last 10 or fewer entries\n",
        "        lat1, lon1, time1 = group.loc[i - 1, ['LAT', 'LON', 'BaseDateTime']]\n",
        "        lat2, lon2, time2 = group.loc[i, ['LAT', 'LON', 'BaseDateTime']]\n",
        "        distance = haversine(lat1, lon1, lat2, lon2)\n",
        "        time_diff = (time2 - time1).total_seconds() / 3600  # Time in hours\n",
        "        speed = distance / time_diff if time_diff > 0 else 0\n",
        "        results.append({'IMO': imo, 'Entry1': i - 1, 'Entry2': i, 'Speed (km/h)': speed})\n",
        "\n",
        "# Convert results to a DataFrame and save to a new file\n",
        "speed_df = pd.DataFrame(results)\n",
        "speed_df.to_excel(\"vessel_speeds.xlsx\", index=False)\n",
        "print(\"Speed calculations saved to 'vessel_speeds.xlsx'\")\n"
      ],
      "metadata": {
        "colab": {
          "base_uri": "https://localhost:8080/"
        },
        "id": "cC-n5u17Gf7W",
        "outputId": "cc248d42-9189-4cf7-a4bc-d443181b20f6"
      },
      "execution_count": 2,
      "outputs": [
        {
          "output_type": "stream",
          "name": "stdout",
          "text": [
            "Speed calculations saved to 'vessel_speeds.xlsx'\n"
          ]
        }
      ]
    },
    {
      "cell_type": "code",
      "source": [
        "import pandas as pd\n",
        "from math import radians, sin, cos, sqrt, atan2\n",
        "from datetime import datetime\n",
        "\n",
        "# Function to calculate distance using Haversine formula\n",
        "def haversine(lat1, lon1, lat2, lon2):\n",
        "    R = 6371  # Radius of Earth in km\n",
        "    dlat = radians(lat2 - lat1)\n",
        "    dlon = radians(lon2 - lon1)\n",
        "    a = sin(dlat / 2)**2 + cos(radians(lat1)) * cos(radians(lat2)) * sin(dlon / 2)**2\n",
        "    c = 2 * atan2(sqrt(a), sqrt(1 - a))\n",
        "    return R * c  # Distance in km\n",
        "\n",
        "# Load the CSV file\n",
        "file_path = \"ShipData.csv\"  # Replace with your file path\n",
        "df = pd.read_csv(file_path)\n",
        "\n",
        "# Convert BaseDateTime to proper datetime format\n",
        "df['BaseDateTime'] = pd.to_datetime(df['BaseDateTime'], format=\"%Y-%m-%dT%H:%M:%S\")\n",
        "\n",
        "# Sort by IMO number and BaseDateTime\n",
        "df.sort_values(by=['IMO', 'BaseDateTime'], inplace=True)\n",
        "\n",
        "# Calculate speed\n",
        "results = []\n",
        "for imo, group in df.groupby('IMO'):  # Group by IMO number\n",
        "    group = group.reset_index(drop=True)\n",
        "    for i in range(1, min(11, len(group))):  # Last 10 or fewer entries\n",
        "        lat1, lon1, time1 = group.loc[i - 1, ['LAT', 'LON', 'BaseDateTime']]\n",
        "        lat2, lon2, time2 = group.loc[i, ['LAT', 'LON', 'BaseDateTime']]\n",
        "        distance = haversine(lat1, lon1, lat2, lon2)\n",
        "        time_diff = (time2 - time1).total_seconds() / 3600  # Time in hours\n",
        "        speed = distance / time_diff if time_diff > 0 else 0\n",
        "        after_oil_spill = group.loc[i, 'After oil spill']  # Add 'After oil spill' column\n",
        "        results.append({\n",
        "            'IMO': imo,\n",
        "            'Entry1': i - 1,\n",
        "            'Entry2': i,\n",
        "            'Speed (km/h)': speed,\n",
        "            'After oil spill': after_oil_spill\n",
        "        })\n",
        "\n",
        "# Convert results to a DataFrame and save to a new file\n",
        "speed_df = pd.DataFrame(results)\n",
        "speed_df.to_excel(\"vessel_speeds_with_oil_spill.xlsx\", index=False)\n",
        "print(\"Speed calculations with 'After oil spill' saved to 'vessel_speeds_with_oil_spill.xlsx'\")\n"
      ],
      "metadata": {
        "colab": {
          "base_uri": "https://localhost:8080/"
        },
        "id": "LYieGEJfIr8u",
        "outputId": "215f8fdf-f18f-4f5a-fb2b-345e4448f169"
      },
      "execution_count": 3,
      "outputs": [
        {
          "output_type": "stream",
          "name": "stdout",
          "text": [
            "Speed calculations with 'After oil spill' saved to 'vessel_speeds_with_oil_spill.xlsx'\n"
          ]
        }
      ]
    },
    {
      "cell_type": "code",
      "source": [
        "import pandas as pd\n",
        "from math import radians, sin, cos, sqrt, atan2\n",
        "from datetime import datetime\n",
        "\n",
        "# Function to calculate distance using Haversine formula\n",
        "def haversine(lat1, lon1, lat2, lon2):\n",
        "    R = 6371  # Radius of Earth in km\n",
        "    dlat = radians(lat2 - lat1)\n",
        "    dlon = radians(lon2 - lon1)\n",
        "    a = sin(dlat / 2)**2 + cos(radians(lat1)) * cos(radians(lat2)) * sin(dlon / 2)**2\n",
        "    c = 2 * atan2(sqrt(a), sqrt(1 - a))\n",
        "    return R * c  # Distance in km\n",
        "\n",
        "# Load the CSV file\n",
        "file_path = \"ShipData.csv\"  # Replace with your file path\n",
        "df = pd.read_csv(file_path)\n",
        "\n",
        "# Convert BaseDateTime to proper datetime format\n",
        "df['BaseDateTime'] = pd.to_datetime(df['BaseDateTime'], format=\"%Y-%m-%dT%H:%M:%S\")\n",
        "\n",
        "# Sort by IMO number and BaseDateTime\n",
        "df.sort_values(by=['IMO', 'BaseDateTime'], inplace=True)\n",
        "\n",
        "# Calculate speed\n",
        "results = []\n",
        "for imo, group in df.groupby('IMO'):  # Group by IMO number\n",
        "    group = group.reset_index(drop=True)\n",
        "    for i in range(1, min(11, len(group))):  # Last 10 or fewer entries\n",
        "        lat1, lon1, time1 = group.loc[i - 1, ['LAT', 'LON', 'BaseDateTime']]\n",
        "        lat2, lon2, time2 = group.loc[i, ['LAT', 'LON', 'BaseDateTime']]\n",
        "        distance = haversine(lat1, lon1, lat2, lon2)\n",
        "        time_diff = (time2 - time1).total_seconds() / 3600  # Time in hours\n",
        "        speed = distance / time_diff if time_diff > 0 else 0\n",
        "        after_oil_spill = group.loc[i, 'After oil spill']  # Add 'After oil spill' column\n",
        "        heading = group.loc[i, 'Heading']  # Add 'Heading' column\n",
        "        results.append({\n",
        "            'IMO': imo,\n",
        "            'Entry': i - 1,\n",
        "            'Speed (km/h)': speed,\n",
        "            'After oil spill': after_oil_spill,\n",
        "            'Heading': heading\n",
        "        })\n",
        "\n",
        "# Convert results to a DataFrame and save to a new file\n",
        "speed_df = pd.DataFrame(results)\n",
        "speed_df.to_excel(\"vessel_speeds_with_oil_spill_and_heading.xlsx\", index=False)\n",
        "print(\"Speed calculations with 'After oil spill' and 'Heading' saved to 'vessel_speeds_with_oil_spill_and_heading.xlsx'\")\n"
      ],
      "metadata": {
        "colab": {
          "base_uri": "https://localhost:8080/"
        },
        "id": "pFg6jb2MJi8l",
        "outputId": "f924c494-e886-4175-aec8-fe0f7582667e"
      },
      "execution_count": 4,
      "outputs": [
        {
          "output_type": "stream",
          "name": "stdout",
          "text": [
            "Speed calculations with 'After oil spill' and 'Heading' saved to 'vessel_speeds_with_oil_spill_and_heading.xlsx'\n"
          ]
        }
      ]
    },
    {
      "cell_type": "code",
      "source": [
        "import pandas as pd\n",
        "from math import radians, sin, cos, sqrt, atan2\n",
        "from datetime import datetime\n",
        "\n",
        "# Function to calculate distance using Haversine formula\n",
        "def haversine(lat1, lon1, lat2, lon2):\n",
        "    R = 6371  # Radius of Earth in km\n",
        "    dlat = radians(lat2 - lat1)\n",
        "    dlon = radians(lon2 - lon1)\n",
        "    a = sin(dlat / 2)**2 + cos(radians(lat1)) * cos(radians(lat2)) * sin(dlon / 2)**2\n",
        "    c = 2 * atan2(sqrt(a), sqrt(1 - a))\n",
        "    return R * c  # Distance in km\n",
        "\n",
        "# Load the CSV file\n",
        "file_path = \"ShipData.csv\"  # Replace with your file path\n",
        "df = pd.read_csv(file_path)\n",
        "\n",
        "# Convert BaseDateTime to proper datetime format\n",
        "df['BaseDateTime'] = pd.to_datetime(df['BaseDateTime'], format=\"%Y-%m-%dT%H:%M:%S\")\n",
        "\n",
        "# Sort by IMO number and BaseDateTime\n",
        "df.sort_values(by=['IMO', 'BaseDateTime'], inplace=True)\n",
        "\n",
        "# Calculate speed\n",
        "results = []\n",
        "for imo, group in df.groupby('IMO'):  # Group by IMO number\n",
        "    group = group.reset_index(drop=True)\n",
        "    for i in range(1, min(6, len(group))):  # Last 5 or fewer entries\n",
        "        lat1, lon1, time1 = group.loc[i - 1, ['LAT', 'LON', 'BaseDateTime']]\n",
        "        lat2, lon2, time2 = group.loc[i, ['LAT', 'LON', 'BaseDateTime']]\n",
        "        distance = haversine(lat1, lon1, lat2, lon2)\n",
        "        time_diff = (time2 - time1).total_seconds() / 3600  # Time in hours\n",
        "        speed = distance / time_diff if time_diff > 0 else 0\n",
        "        after_oil_spill = group.loc[i, 'After oil spill']  # Add 'After oil spill' column\n",
        "        heading = group.loc[i, 'Heading']  # Add 'Heading' column\n",
        "        results.append({\n",
        "            'IMO': imo,\n",
        "            'Entry1': i - 1,\n",
        "            'Speed (km/h)': speed,\n",
        "            'After oil spill': after_oil_spill,\n",
        "            'Heading': heading\n",
        "        })\n",
        "\n",
        "# Convert results to a DataFrame and save to a new file\n",
        "speed_df = pd.DataFrame(results)\n",
        "speed_df.to_excel(\"vessel_speeds_with_oil_spill_and_heading_5_entries.xlsx\", index=False)\n",
        "print(\"Speed calculations with 'After oil spill' and 'Heading' saved to 'vessel_speeds_with_oil_spill_and_heading_5_entries.xlsx'\")\n"
      ],
      "metadata": {
        "colab": {
          "base_uri": "https://localhost:8080/"
        },
        "id": "5Rxqec4eOOpA",
        "outputId": "f6c9578f-275f-4244-9b5c-c82bf6310b6b"
      },
      "execution_count": 5,
      "outputs": [
        {
          "output_type": "stream",
          "name": "stdout",
          "text": [
            "Speed calculations with 'After oil spill' and 'Heading' saved to 'vessel_speeds_with_oil_spill_and_heading_5_entries.xlsx'\n"
          ]
        }
      ]
    },
    {
      "cell_type": "code",
      "source": [
        "import pandas as pd\n",
        "from math import radians, sin, cos, sqrt, atan2\n",
        "from datetime import datetime\n",
        "\n",
        "# Function to calculate distance using Haversine formula\n",
        "def haversine(lat1, lon1, lat2, lon2):\n",
        "    R = 6371  # Radius of Earth in km\n",
        "    dlat = radians(lat2 - lat1)\n",
        "    dlon = radians(lon2 - lon1)\n",
        "    a = sin(dlat / 2)**2 + cos(radians(lat1)) * cos(radians(lat2)) * sin(dlon / 2)**2\n",
        "    c = 2 * atan2(sqrt(a), sqrt(1 - a))\n",
        "    return R * c  # Distance in km\n",
        "\n",
        "# Load the CSV file\n",
        "file_path = \"ShipData.csv\"  # Replace with your file path\n",
        "df = pd.read_csv(file_path)\n",
        "\n",
        "# Convert BaseDateTime to proper datetime format\n",
        "df['BaseDateTime'] = pd.to_datetime(df['BaseDateTime'], format=\"%Y-%m-%dT%H:%M:%S\")\n",
        "\n",
        "# Sort by IMO number and BaseDateTime\n",
        "df.sort_values(by=['IMO', 'BaseDateTime'], inplace=True)\n",
        "\n",
        "# Calculate speed\n",
        "results = []\n",
        "for imo, group in df.groupby('IMO'):  # Group by IMO number\n",
        "    group = group.reset_index(drop=True)\n",
        "    for i in range(1, len(group)):  # Loop over all entries\n",
        "        lat1, lon1, time1 = group.loc[i - 1, ['LAT', 'LON', 'BaseDateTime']]\n",
        "        lat2, lon2, time2 = group.loc[i, ['LAT', 'LON', 'BaseDateTime']]\n",
        "        distance = haversine(lat1, lon1, lat2, lon2)\n",
        "        time_diff = (time2 - time1).total_seconds() / 3600  # Time in hours\n",
        "        speed = distance / time_diff if time_diff > 0 else 0\n",
        "        after_oil_spill = group.loc[i, 'After oil spill']  # Add 'After oil spill' column\n",
        "        heading = group.loc[i, 'Heading']  # Add 'Heading' column\n",
        "        results.append({\n",
        "            'IMO': imo,\n",
        "            'Entry1': i - 1,\n",
        "            'Entry2': i,\n",
        "            'Speed (km/h)': speed,\n",
        "            'After oil spill': after_oil_spill,\n",
        "            'Heading': heading\n",
        "        })\n",
        "\n",
        "# Convert results to a DataFrame and save to a new file\n",
        "speed_df = pd.DataFrame(results)\n",
        "speed_df.to_excel(\"vessel_speeds_with_oil_spill_and_heading_all_entries.xlsx\", index=False)\n",
        "print(\"Speed calculations with 'After oil spill' and 'Heading' saved to 'vessel_speeds_with_oil_spill_and_heading_all_entries.xlsx'\")\n"
      ],
      "metadata": {
        "colab": {
          "base_uri": "https://localhost:8080/"
        },
        "id": "_G2dSbwyQ8N7",
        "outputId": "6165e9ec-7bba-4a04-fb96-45e46333fe16"
      },
      "execution_count": 6,
      "outputs": [
        {
          "output_type": "stream",
          "name": "stdout",
          "text": [
            "Speed calculations with 'After oil spill' and 'Heading' saved to 'vessel_speeds_with_oil_spill_and_heading_all_entries.xlsx'\n"
          ]
        }
      ]
    },
    {
      "cell_type": "code",
      "source": [
        "import pandas as pd\n",
        "import numpy as np\n",
        "from sklearn.preprocessing import StandardScaler\n",
        "from sklearn.ensemble import IsolationForest\n",
        "from sklearn.svm import OneClassSVM\n",
        "from sklearn.cluster import KMeans, DBSCAN\n",
        "from sklearn.metrics import classification_report\n",
        "from tensorflow.keras.models import Sequential\n",
        "from tensorflow.keras.layers import Dense, LSTM\n",
        "from tensorflow.keras import optimizers\n",
        "\n",
        "# Load the new dataset (adjust the path as needed)\n",
        "file_path = 'vessel_speeds_with_oil_spill_and_heading_all_entries.xlsx'  # Use your actual file path\n",
        "df = pd.read_excel(file_path)\n",
        "\n",
        "# Check the columns in the dataset\n",
        "print(df.columns)\n",
        "\n",
        "# Preprocess the data:\n",
        "# Select relevant features for anomaly detection (e.g., Speed, Heading, etc.)\n",
        "features = df[['Speed (km/h)', 'Heading', 'After oil spill']]  # Adjust feature selection based on your dataset\n",
        "\n",
        "# Handle any missing values (if necessary)\n",
        "features = features.dropna()\n",
        "\n",
        "# Normalize the features using StandardScaler\n",
        "scaler = StandardScaler()\n",
        "scaled_features = scaler.fit_transform(features[['Speed (km/h)', 'Heading']])  # Scaling only numeric features\n",
        "\n",
        "# Define function to evaluate models\n",
        "def evaluate_model(y_true, y_pred, model_name):\n",
        "    print(f\"Results for {model_name}:\")\n",
        "    print(classification_report(y_true, y_pred))\n",
        "\n",
        "# 1. Isolation Forest\n",
        "iso_forest = IsolationForest(contamination=0.05)\n",
        "iso_forest_preds = iso_forest.fit_predict(scaled_features)\n",
        "iso_forest_preds = [1 if pred == -1 else 0 for pred in iso_forest_preds]  # Convert -1 to 1 for anomalies\n",
        "\n",
        "# 2. One-Class SVM\n",
        "one_class_svm = OneClassSVM(nu=0.05)\n",
        "one_class_svm_preds = one_class_svm.fit_predict(scaled_features)\n",
        "one_class_svm_preds = [1 if pred == -1 else 0 for pred in one_class_svm_preds]\n",
        "\n",
        "# 3. K-Means Clustering\n",
        "kmeans = KMeans(n_clusters=2)\n",
        "kmeans_preds = kmeans.fit_predict(scaled_features)\n",
        "# Assume the largest cluster is the \"normal\" cluster (0 for normal, 1 for anomaly)\n",
        "kmeans_preds = [0 if pred == 0 else 1 for pred in kmeans_preds]\n",
        "\n",
        "# 4. DBSCAN\n",
        "dbscan = DBSCAN(eps=0.3, min_samples=5)\n",
        "dbscan_preds = dbscan.fit_predict(scaled_features)\n",
        "dbscan_preds = [1 if pred == -1 else 0 for pred in dbscan_preds]  # Convert -1 (outlier) to 1\n",
        "\n",
        "# 5. Autoencoder (For anomaly detection based on reconstruction error)\n",
        "def create_autoencoder(input_dim):\n",
        "    model = Sequential()\n",
        "    model.add(Dense(64, input_dim=input_dim, activation='relu'))\n",
        "    model.add(Dense(32, activation='relu'))\n",
        "    model.add(Dense(16, activation='relu'))\n",
        "    model.add(Dense(32, activation='relu'))\n",
        "    model.add(Dense(64, activation='relu'))\n",
        "    model.add(Dense(input_dim, activation='sigmoid'))\n",
        "    model.compile(optimizer='adam', loss='mse')\n",
        "    return model\n",
        "\n",
        "autoencoder = create_autoencoder(scaled_features.shape[1])\n",
        "autoencoder.fit(scaled_features, scaled_features, epochs=50, batch_size=256, validation_split=0.1, verbose=0)\n",
        "\n",
        "reconstructed = autoencoder.predict(scaled_features)\n",
        "mse = np.mean(np.power(scaled_features - reconstructed, 2), axis=1)\n",
        "threshold = np.percentile(mse, 95)  # Define threshold as 95th percentile of reconstruction error\n",
        "autoencoder_preds = [1 if error > threshold else 0 for error in mse]\n",
        "\n",
        "# 6. LSTM Model (for time-series anomaly detection)\n",
        "# Reshape data into sequences (sequence_length = 10 for this example)\n",
        "sequence_length = 10\n",
        "X_sequences = []\n",
        "y_sequences = []\n",
        "\n",
        "for i in range(len(scaled_features) - sequence_length):\n",
        "    X_sequences.append(scaled_features[i:i + sequence_length])\n",
        "    y_sequences.append(df['After oil spill'].iloc[i + sequence_length])\n",
        "\n",
        "X_sequences = np.array(X_sequences)\n",
        "y_sequences = np.array(y_sequences)\n",
        "\n",
        "# Define LSTM model\n",
        "lstm_model = Sequential()\n",
        "lstm_model.add(LSTM(64, activation='relu', input_shape=(X_sequences.shape[1], X_sequences.shape[2])))\n",
        "lstm_model.add(Dense(1, activation='sigmoid'))\n",
        "lstm_model.compile(optimizer='adam', loss='binary_crossentropy', metrics=['accuracy'])\n",
        "\n",
        "lstm_model.fit(X_sequences, y_sequences, epochs=10, batch_size=32, verbose=0)\n",
        "lstm_preds = (lstm_model.predict(X_sequences) > 0.5).astype(int)\n",
        "\n",
        "# Evaluate the results using classification report\n",
        "evaluate_model(df['After oil spill'], iso_forest_preds, 'Isolation Forest')\n",
        "evaluate_model(df['After oil spill'], one_class_svm_preds, 'One-Class SVM')\n",
        "evaluate_model(df['After oil spill'], kmeans_preds, 'K-Means Clustering')\n",
        "evaluate_model(df['After oil spill'], dbscan_preds, 'DBSCAN')\n",
        "evaluate_model(df['After oil spill'], autoencoder_preds, 'Autoencoder')\n",
        "evaluate_model(y_sequences, lstm_preds, 'LSTM')\n"
      ],
      "metadata": {
        "colab": {
          "base_uri": "https://localhost:8080/"
        },
        "id": "bW3dh-gqWfUG",
        "outputId": "39d76a6e-5530-44ad-bb77-5f2e61f648fb"
      },
      "execution_count": 7,
      "outputs": [
        {
          "output_type": "stream",
          "name": "stdout",
          "text": [
            "Index(['IMO', 'Entry1', 'Entry2', 'Speed (km/h)', 'After oil spill',\n",
            "       'Heading'],\n",
            "      dtype='object')\n"
          ]
        },
        {
          "output_type": "stream",
          "name": "stderr",
          "text": [
            "/usr/local/lib/python3.11/dist-packages/keras/src/layers/core/dense.py:87: UserWarning: Do not pass an `input_shape`/`input_dim` argument to a layer. When using Sequential models, prefer using an `Input(shape)` object as the first layer in the model instead.\n",
            "  super().__init__(activity_regularizer=activity_regularizer, **kwargs)\n"
          ]
        },
        {
          "output_type": "stream",
          "name": "stdout",
          "text": [
            "\u001b[1m38/38\u001b[0m \u001b[32m━━━━━━━━━━━━━━━━━━━━\u001b[0m\u001b[37m\u001b[0m \u001b[1m0s\u001b[0m 4ms/step\n"
          ]
        },
        {
          "output_type": "stream",
          "name": "stderr",
          "text": [
            "/usr/local/lib/python3.11/dist-packages/keras/src/layers/rnn/rnn.py:200: UserWarning: Do not pass an `input_shape`/`input_dim` argument to a layer. When using Sequential models, prefer using an `Input(shape)` object as the first layer in the model instead.\n",
            "  super().__init__(**kwargs)\n"
          ]
        },
        {
          "output_type": "stream",
          "name": "stdout",
          "text": [
            "\u001b[1m38/38\u001b[0m \u001b[32m━━━━━━━━━━━━━━━━━━━━\u001b[0m\u001b[37m\u001b[0m \u001b[1m0s\u001b[0m 7ms/step\n",
            "Results for Isolation Forest:\n",
            "              precision    recall  f1-score   support\n",
            "\n",
            "           0       0.33      0.90      0.48       413\n",
            "           1       0.33      0.03      0.05       790\n",
            "\n",
            "    accuracy                           0.33      1203\n",
            "   macro avg       0.33      0.46      0.26      1203\n",
            "weighted avg       0.33      0.33      0.20      1203\n",
            "\n",
            "Results for One-Class SVM:\n",
            "              precision    recall  f1-score   support\n",
            "\n",
            "           0       0.34      0.94      0.50       413\n",
            "           1       0.48      0.03      0.05       790\n",
            "\n",
            "    accuracy                           0.34      1203\n",
            "   macro avg       0.41      0.48      0.27      1203\n",
            "weighted avg       0.43      0.34      0.20      1203\n",
            "\n",
            "Results for K-Means Clustering:\n",
            "              precision    recall  f1-score   support\n",
            "\n",
            "           0       0.35      0.69      0.46       413\n",
            "           1       0.67      0.34      0.45       790\n",
            "\n",
            "    accuracy                           0.46      1203\n",
            "   macro avg       0.51      0.51      0.46      1203\n",
            "weighted avg       0.56      0.46      0.45      1203\n",
            "\n",
            "Results for DBSCAN:\n",
            "              precision    recall  f1-score   support\n",
            "\n",
            "           0       0.35      1.00      0.51       413\n",
            "           1       0.83      0.01      0.02       790\n",
            "\n",
            "    accuracy                           0.35      1203\n",
            "   macro avg       0.59      0.50      0.27      1203\n",
            "weighted avg       0.67      0.35      0.19      1203\n",
            "\n",
            "Results for Autoencoder:\n",
            "              precision    recall  f1-score   support\n",
            "\n",
            "           0       0.34      0.93      0.50       413\n",
            "           1       0.54      0.04      0.08       790\n",
            "\n",
            "    accuracy                           0.35      1203\n",
            "   macro avg       0.44      0.49      0.29      1203\n",
            "weighted avg       0.47      0.35      0.22      1203\n",
            "\n",
            "Results for LSTM:\n",
            "              precision    recall  f1-score   support\n",
            "\n",
            "           0       0.83      0.45      0.59       403\n",
            "           1       0.77      0.95      0.85       790\n",
            "\n",
            "    accuracy                           0.78      1193\n",
            "   macro avg       0.80      0.70      0.72      1193\n",
            "weighted avg       0.79      0.78      0.76      1193\n",
            "\n"
          ]
        }
      ]
    },
    {
      "cell_type": "code",
      "source": [
        "import numpy as np\n",
        "from sklearn.metrics import confusion_matrix, ConfusionMatrixDisplay\n",
        "import matplotlib.pyplot as plt\n",
        "\n",
        "# Results from your models\n",
        "results = {\n",
        "    \"Isolation Forest\": {\"accuracy\": 0.33, \"precision_0\": 0.33, \"recall_0\": 0.90, \"f1_0\": 0.48, \"precision_1\": 0.33, \"recall_1\": 0.03, \"f1_1\": 0.05},\n",
        "    \"One-Class SVM\": {\"accuracy\": 0.34, \"precision_0\": 0.34, \"recall_0\": 0.94, \"f1_0\": 0.50, \"precision_1\": 0.48, \"recall_1\": 0.03, \"f1_1\": 0.05},\n",
        "    \"K-Means Clustering\": {\"accuracy\": 0.54, \"precision_0\": 0.33, \"recall_0\": 0.31, \"f1_0\": 0.32, \"precision_1\": 0.65, \"recall_1\": 0.66, \"f1_1\": 0.66},\n",
        "    \"DBSCAN\": {\"accuracy\": 0.35, \"precision_0\": 0.35, \"recall_0\": 1.00, \"f1_0\": 0.51, \"precision_1\": 0.83, \"recall_1\": 0.01, \"f1_1\": 0.02},\n",
        "    \"Autoencoder\": {\"accuracy\": 0.35, \"precision_0\": 0.34, \"recall_0\": 0.93, \"f1_0\": 0.50, \"precision_1\": 0.54, \"recall_1\": 0.04, \"f1_1\": 0.08},\n",
        "    \"LSTM\": {\"accuracy\": 0.78, \"precision_0\": 0.89, \"recall_0\": 0.40, \"f1_0\": 0.55, \"precision_1\": 0.76, \"recall_1\": 0.97, \"f1_1\": 0.86},\n",
        "}\n",
        "\n",
        "# Determine the best model (based on accuracy, or recall for class 1, or a combination)\n",
        "best_model = max(results, key=lambda model: results[model][\"accuracy\"])\n",
        "\n",
        "# Print the best model's details\n",
        "print(f\"Best model: {best_model}\")\n",
        "print(f\"Accuracy: {results[best_model]['accuracy']}\")\n",
        "print(f\"Precision (class 0): {results[best_model]['precision_0']}, Recall (class 0): {results[best_model]['recall_0']}, F1-score (class 0): {results[best_model]['f1_0']}\")\n",
        "print(f\"Precision (class 1): {results[best_model]['precision_1']}, Recall (class 1): {results[best_model]['recall_1']}, F1-score (class 1): {results[best_model]['f1_1']}\")\n",
        "\n",
        "# Let's assume the true and predicted values (y_true and y_pred) are known for the best model\n",
        "# Here, I'm using a hypothetical example for LSTM (you can replace this with your actual predictions)\n",
        "\n",
        "y_true = [0]*403 + [1]*790  # True labels (0 and 1)\n",
        "y_pred = [0]*161 + [1]*242 + [0]*192 + [1]*598  # Predicted labels (Example for LSTM)\n",
        "\n",
        "# Compute confusion matrix\n",
        "cm = confusion_matrix(y_true, y_pred)\n",
        "\n",
        "# Display confusion matrix\n",
        "disp = ConfusionMatrixDisplay(confusion_matrix=cm, display_labels=[\"No Spill\", \"Spill\"])\n",
        "disp.plot(cmap=plt.cm.Blues)\n",
        "\n",
        "# Show the plot\n",
        "plt.show()\n",
        "\n"
      ],
      "metadata": {
        "colab": {
          "base_uri": "https://localhost:8080/",
          "height": 518
        },
        "id": "Hso5aJwHW2dx",
        "outputId": "e706005b-6415-4f0a-8015-8002b5ab2c67"
      },
      "execution_count": 8,
      "outputs": [
        {
          "output_type": "stream",
          "name": "stdout",
          "text": [
            "Best model: LSTM\n",
            "Accuracy: 0.78\n",
            "Precision (class 0): 0.89, Recall (class 0): 0.4, F1-score (class 0): 0.55\n",
            "Precision (class 1): 0.76, Recall (class 1): 0.97, F1-score (class 1): 0.86\n"
          ]
        },
        {
          "output_type": "display_data",
          "data": {
            "text/plain": [
              "<Figure size 640x480 with 2 Axes>"
            ],
            "image/png": "[encoded data removed]"
          },
          "metadata": {}
        }
      ]
    },
    {
      "cell_type": "code",
      "source": [
        "import pandas as pd\n",
        "from sklearn.model_selection import train_test_split\n",
        "from sklearn.ensemble import RandomForestClassifier\n",
        "from sklearn.metrics import accuracy_score, confusion_matrix, ConfusionMatrixDisplay\n",
        "import matplotlib.pyplot as plt\n",
        "\n",
        "# Load the dataset\n",
        "data = pd.read_excel('vessel_speeds_with_oil_spill_and_heading_all_entries.xlsx')\n",
        "\n",
        "# Define features and target\n",
        "X = data[['Speed (km/h)', 'Heading']]  # Add more relevant features if needed\n",
        "y = data['After oil spill']  # Target variable\n",
        "\n",
        "# Split the dataset into training and test sets\n",
        "X_train, X_test, y_train, y_test = train_test_split(X, y, test_size=0.3, random_state=42)\n",
        "\n",
        "# Initialize the Random Forest model\n",
        "rf_model = RandomForestClassifier(n_estimators=100, random_state=42)\n",
        "\n",
        "# Fit the model\n",
        "rf_model.fit(X_train, y_train)\n",
        "\n",
        "# Predict using the trained model\n",
        "y_pred_rf = rf_model.predict(X_test)\n",
        "\n",
        "# Calculate accuracy\n",
        "accuracy_rf = accuracy_score(y_test, y_pred_rf)\n",
        "print(f\"Random Forest Classifier Accuracy: {accuracy_rf}\")\n",
        "\n",
        "# Confusion Matrix\n",
        "cm_rf = confusion_matrix(y_test, y_pred_rf)\n",
        "disp_rf = ConfusionMatrixDisplay(confusion_matrix=cm_rf, display_labels=[\"No Spill\", \"Spill\"])\n",
        "disp_rf.plot(cmap=plt.cm.Blues)\n",
        "plt.show()\n",
        "\n"
      ],
      "metadata": {
        "colab": {
          "base_uri": "https://localhost:8080/",
          "height": 466
        },
        "id": "c3pNwz_vaZ4x",
        "outputId": "fc2eca12-f19a-40db-a897-349ad71d82eb"
      },
      "execution_count": 9,
      "outputs": [
        {
          "output_type": "stream",
          "name": "stdout",
          "text": [
            "Random Forest Classifier Accuracy: 0.8365650969529086\n"
          ]
        },
        {
          "output_type": "display_data",
          "data": {
            "text/plain": [
              "<Figure size 640x480 with 2 Axes>"
            ],
            "image/png": "[encoded data removed]"
          },
          "metadata": {}
        }
      ]
    },
    {
      "cell_type": "code",
      "source": [
        "import pickle\n",
        "import pandas as pd\n",
        "from sklearn.model_selection import train_test_split\n",
        "from sklearn.ensemble import RandomForestClassifier\n",
        "from sklearn.metrics import accuracy_score, confusion_matrix, ConfusionMatrixDisplay\n",
        "import matplotlib.pyplot as plt\n",
        "\n",
        "# Load the dataset\n",
        "data = pd.read_excel('vessel_speeds_with_oil_spill_and_heading_all_entries.xlsx')\n",
        "\n",
        "# Define features and target\n",
        "X = data[['Speed (km/h)', 'Heading']]  # Add more relevant features if needed\n",
        "y = data['After oil spill']  # Target variable\n",
        "\n",
        "# Split the dataset into training and test sets\n",
        "X_train, X_test, y_train, y_test = train_test_split(X, y, test_size=0.3, random_state=42)\n",
        "\n",
        "# Initialize the Random Forest model\n",
        "rf_model = RandomForestClassifier(n_estimators=100, random_state=42)\n",
        "\n",
        "# Fit the model\n",
        "rf_model.fit(X_train, y_train)\n",
        "\n",
        "# Predict using the trained model\n",
        "y_pred_rf = rf_model.predict(X_test)\n",
        "\n",
        "# Calculate accuracy\n",
        "accuracy_rf = accuracy_score(y_test, y_pred_rf)\n",
        "print(f\"Random Forest Classifier Accuracy: {accuracy_rf}\")\n",
        "\n",
        "# Confusion Matrix\n",
        "cm_rf = confusion_matrix(y_test, y_pred_rf)\n",
        "disp_rf = ConfusionMatrixDisplay(confusion_matrix=cm_rf, display_labels=[\"No Spill\", \"Spill\"])\n",
        "disp_rf.plot(cmap=plt.cm.Blues)\n",
        "plt.show()\n",
        "\n",
        "# Save the model to a pickle file\n",
        "with open('random_forest_model.pkl', 'wb') as f:\n",
        "    pickle.dump(rf_model, f)\n",
        "    print(\"Model saved to 'random_forest_model.pkl'\")\n",
        "    from google.colab import files\n",
        "\n",
        "# Download the pickle file\n",
        "files.download('random_forest_model.pkl')\n",
        "\n"
      ],
      "metadata": {
        "colab": {
          "base_uri": "https://localhost:8080/",
          "height": 484
        },
        "id": "qtEQ9yhVfG4G",
        "outputId": "b51c07c6-8956-444b-93d3-3fd8baf9dd1f"
      },
      "execution_count": 10,
      "outputs": [
        {
          "output_type": "stream",
          "name": "stdout",
          "text": [
            "Random Forest Classifier Accuracy: 0.8365650969529086\n"
          ]
        },
        {
          "output_type": "display_data",
          "data": {
            "text/plain": [
              "<Figure size 640x480 with 2 Axes>"
            ],
            "image/png": "[encoded data removed]"
          },
          "metadata": {}
        },
        {
          "output_type": "stream",
          "name": "stdout",
          "text": [
            "Model saved to 'random_forest_model.pkl'\n"
          ]
        },
        {
          "output_type": "display_data",
          "data": {
            "text/plain": [
              "<IPython.core.display.Javascript object>"
            ],
            "application/javascript": [
              "\n",
              "    async function download(id, filename, size) {\n",
              "      if (!google.colab.kernel.accessAllowed) {\n",
              "        return;\n",
              "      }\n",
              "      const div = document.createElement('div');\n",
              "      const label = document.createElement('label');\n",
              "      label.textContent = `Downloading \"${filename}\": `;\n",
              "      div.appendChild(label);\n",
              "      const progress = document.createElement('progress');\n",
              "      progress.max = size;\n",
              "      div.appendChild(progress);\n",
              "      document.body.appendChild(div);\n",
              "\n",
              "      const buffers = [];\n",
              "      let downloaded = 0;\n",
              "\n",
              "      const channel = await google.colab.kernel.comms.open(id);\n",
              "      // Send a message to notify the kernel that we're ready.\n",
              "      channel.send({})\n",
              "\n",
              "      for await (const message of channel.messages) {\n",
              "        // Send a message to notify the kernel that we're ready.\n",
              "        channel.send({})\n",
              "        if (message.buffers) {\n",
              "          for (const buffer of message.buffers) {\n",
              "            buffers.push(buffer);\n",
              "            downloaded += buffer.byteLength;\n",
              "            progress.value = downloaded;\n",
              "          }\n",
              "        }\n",
              "      }\n",
              "      const blob = new Blob(buffers, {type: 'application/binary'});\n",
              "      const a = document.createElement('a');\n",
              "      a.href = window.URL.createObjectURL(blob);\n",
              "      a.download = filename;\n",
              "      div.appendChild(a);\n",
              "      a.click();\n",
              "      div.remove();\n",
              "    }\n",
              "  "
            ]
          },
          "metadata": {}
        },
        {
          "output_type": "display_data",
          "data": {
            "text/plain": [
              "<IPython.core.display.Javascript object>"
            ],
            "application/javascript": [
              "download(\"download_77f6b642-50c7-4f77-9acc-70b6dbd5c15c\", \"random_forest_model.pkl\", 2052701)"
            ]
          },
          "metadata": {}
        }
      ]
    }
  ],
  "metadata": {
    "colab": {
      "provenance": [],
      "authorship_tag": "ABX9TyMZNgJIhnBUzSOZ/QuZHQO5"
    },
    "kernelspec": {
      "display_name": "Python 3",
      "name": "python3"
    },
    "language_info": {
      "name": "python"
    }
  },
  "nbformat": 4,
  "nbformat_minor": 0
}